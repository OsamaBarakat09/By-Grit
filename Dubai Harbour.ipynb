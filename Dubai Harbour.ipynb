{
 "cells": [
  {
   "cell_type": "code",
   "execution_count": 284,
   "id": "f2d1c0ef",
   "metadata": {},
   "outputs": [],
   "source": [
    "import pandas as pd\n",
    "import numpy as np\n",
    "import matplotlib.pyplot as plt\n",
    "import seaborn as sns"
   ]
  },
  {
   "cell_type": "code",
   "execution_count": 285,
   "id": "62290928",
   "metadata": {},
   "outputs": [],
   "source": [
    "pd.options.display.max_rows = 200"
   ]
  },
  {
   "cell_type": "code",
   "execution_count": 286,
   "id": "86637cfe",
   "metadata": {},
   "outputs": [],
   "source": [
    "may = pd.read_excel(\"Dubai Harbour - May Social.xlsx\")\n",
    "june = pd.read_excel(\"Dubai Harbour - June social.xlsx\")\n",
    "A = pd.concat([may, june])"
   ]
  },
  {
   "cell_type": "code",
   "execution_count": 287,
   "id": "6a0aafe7",
   "metadata": {},
   "outputs": [],
   "source": [
    "face_may = may[may[\"Platform\"] == \"facebook\"]\n",
    "face_june = june[june[\"Platform\"] == \"facebook\"]"
   ]
  },
  {
   "cell_type": "code",
   "execution_count": 288,
   "id": "099be42a",
   "metadata": {},
   "outputs": [],
   "source": [
    "B = [\"Twitter\", \"Facebook\", \"Instagram\", \"LinkedIN\", \"TikTok\"]\n",
    "N = np.intersect1d(may.columns, june.columns)\n",
    "H = A.columns\n",
    "unique = [i for i in N if i in H]"
   ]
  },
  {
   "cell_type": "markdown",
   "id": "b3ea92a7",
   "metadata": {},
   "source": [
    "--------------"
   ]
  },
  {
   "cell_type": "markdown",
   "id": "624e7876",
   "metadata": {},
   "source": [
    "# Identify the relative changes between the data for May and June"
   ]
  },
  {
   "cell_type": "markdown",
   "id": "b5eaa825",
   "metadata": {},
   "source": [
    "- Number of content "
   ]
  },
  {
   "cell_type": "code",
   "execution_count": 299,
   "id": "7a4b77dd",
   "metadata": {},
   "outputs": [],
   "source": [
    "def ContentType(): # Difference between type on content in both months.\n",
    "    May = [71, 39, 1]\n",
    "    June = [74, 31, 0]\n",
    "    Unique = may[\"Content type\"].unique()\n",
    "    res = pd.DataFrame(Unique)\n",
    "    res[\"May\"] = May\n",
    "    res[\"June\"] = June\n",
    "    res = res.rename(columns={0: \"Content Type\"})\n",
    "    return res"
   ]
  },
  {
   "cell_type": "markdown",
   "id": "f574da7f",
   "metadata": {},
   "source": [
    "------"
   ]
  },
  {
   "cell_type": "markdown",
   "id": "5aea3e36",
   "metadata": {},
   "source": [
    "- Movment in Followers"
   ]
  },
  {
   "cell_type": "code",
   "execution_count": 298,
   "id": "fa3389fc",
   "metadata": {},
   "outputs": [],
   "source": [
    "def Followers(): \n",
    "    May = may.pivot_table(index=[\"Profile URL\"], values=[\"Profile followers\"], aggfunc=\"sum\")\n",
    "    June = june.pivot_table(index=[\"Profile URL\"], values=[\"Profile followers\"], aggfunc=\"sum\")\n",
    "    Move = June[\"Profile followers\"] - May[\"Profile followers\"]\n",
    "    res = pd.DataFrame(Move)\n",
    "    res[\"Platform\"] = B\n",
    "    res = res.reset_index(drop=True)\n",
    "    res = res.reindex(columns=[\"Platform\", \"Profile followers\"])\n",
    "    return res"
   ]
  },
  {
   "cell_type": "markdown",
   "id": "513c6591",
   "metadata": {},
   "source": [
    "- there are losing in followers with large percent except LinkedIn and Tiktok"
   ]
  },
  {
   "cell_type": "markdown",
   "id": "15cd987f",
   "metadata": {},
   "source": [
    "-------"
   ]
  },
  {
   "cell_type": "markdown",
   "id": "7812bfe0",
   "metadata": {},
   "source": [
    "- Number of using each platform in both monthes."
   ]
  },
  {
   "cell_type": "code",
   "execution_count": 297,
   "id": "41d08824",
   "metadata": {},
   "outputs": [],
   "source": [
    "def MostPlatformUsed():\n",
    "    May = may.groupby(\"Platform\").size()\n",
    "    June = june.groupby(\"Platform\").size()\n",
    "    res = pd.DataFrame([May, June]).T\n",
    "    res = res.rename(columns={0: \"May\", 1:\"June\"})\n",
    "    return res"
   ]
  },
  {
   "cell_type": "markdown",
   "id": "773cddef",
   "metadata": {},
   "source": [
    "-------------"
   ]
  },
  {
   "cell_type": "code",
   "execution_count": 282,
   "id": "0de86170",
   "metadata": {},
   "outputs": [],
   "source": [
    "# Number of reactions in both months"
   ]
  },
  {
   "cell_type": "code",
   "execution_count": 295,
   "id": "52e2574f",
   "metadata": {},
   "outputs": [],
   "source": [
    "def Interactions():\n",
    "    res = A.pivot_table(index=[\"Platform\"], values=[\"Total interactions\"], aggfunc=\"count\")\n",
    "    return res"
   ]
  },
  {
   "cell_type": "markdown",
   "id": "a6117118",
   "metadata": {},
   "source": [
    "--------------"
   ]
  },
  {
   "cell_type": "markdown",
   "id": "6cc24e88",
   "metadata": {},
   "source": [
    "# Identify the type of media and highlight the best media type"
   ]
  },
  {
   "cell_type": "code",
   "execution_count": 294,
   "id": "29ac65d0",
   "metadata": {},
   "outputs": [],
   "source": [
    "def MediaType():\n",
    "    res = A[\"Media type\"].value_counts()\n",
    "    res = pd.DataFrame(res)\n",
    "    return res"
   ]
  },
  {
   "cell_type": "markdown",
   "id": "dd98e1ec",
   "metadata": {},
   "source": [
    "----------"
   ]
  },
  {
   "cell_type": "markdown",
   "id": "f9e55664",
   "metadata": {},
   "source": [
    "# Highlight the page reach for each platform."
   ]
  },
  {
   "cell_type": "code",
   "execution_count": 292,
   "id": "8cd9c10a",
   "metadata": {},
   "outputs": [],
   "source": [
    "def Reach():\n",
    "    res = A.pivot_table(index=[\"Platform\"], values=[\"Total reach\"], aggfunc=\"sum\")\n",
    "    return res"
   ]
  },
  {
   "cell_type": "markdown",
   "id": "1fe717c2",
   "metadata": {},
   "source": [
    "--------------------"
   ]
  },
  {
   "cell_type": "code",
   "execution_count": 291,
   "id": "56043909",
   "metadata": {},
   "outputs": [],
   "source": [
    "class FacebookOverview():\n",
    "    def growth(Current, Pervious):\n",
    "        if pervious == 0:\n",
    "            print(100,\"%\")\n",
    "        else:\n",
    "            res = ((Current - Pervious)/ Pervious) * 100\n",
    "            res = round(res,2)\n",
    "            print(res,\"%\")\n",
    "    \n",
    "    def FollowersGrowth(self):\n",
    "        May = face_may[\"Profile followers\"].sum()\n",
    "        June = face_june[\"Profile followers\"].sum()\n",
    "        res = growth(June, May)\n",
    "        return res\n",
    "\n",
    "    def TotalPageReach(self):\n",
    "        May = face_may[\"Total reach\"].sum()\n",
    "        June = face_june[\"Total reach\"].sum()\n",
    "        res = growth(June, May)\n",
    "        return res\n",
    "    \n",
    "    def TotalVideoViews(self):\n",
    "        May = face_may[face_may[\"Media type\"] == \"video\"]\n",
    "        May = May[\"Video view count\"].sum()\n",
    "        June = face_june[face_june[\"Media type\"] == \"video\"]\n",
    "        June = June[\"Video view count\"].sum()\n",
    "        res = growth(June, May)\n",
    "        return res\n",
    "    \n",
    "    def Posts(self):\n",
    "        May = face_may[face_may[\"Content type\"] == \"post\"]\n",
    "        May = len(May)\n",
    "        June = face_june[face_june[\"Content type\"] == \"post\"]\n",
    "        June = len(June)\n",
    "        res = growth(June, May)\n",
    "        return res\n",
    "    \n",
    "    def TotalEngagment(self):\n",
    "        May = face_may[\"Engagements\"].sum()\n",
    "        June = face_june[\"Engagements\"].sum()\n",
    "        res = growth(June, May)\n",
    "        return res\n",
    "    \n",
    "    def TotalInteractions(self):\n",
    "        May = face_may[\"Total interactions\"].sum()\n",
    "        June = face_june[\"Total interactions\"].sum()\n",
    "        res = growth(June, May)\n",
    "        return res "
   ]
  },
  {
   "cell_type": "code",
   "execution_count": 289,
   "id": "93b745c8",
   "metadata": {},
   "outputs": [],
   "source": [
    "class ConversationsOverview():\n",
    "    def MentionedProfilesID(self):\n",
    "        res = A[~A[\"Mentioned profiles ID\"].isna()]\n",
    "        return res\n",
    "    \n",
    "    def UniqueUser(self):\n",
    "        May = may[\"Profile ID\"].nunique()\n",
    "        June = june[\"Profile ID\"].nunique()\n",
    "        res = pd.DataFrame([May, June]).T\n",
    "        res = res.rename(columns={0: \"May\", 1: \"june\"})\n",
    "        return res"
   ]
  },
  {
   "cell_type": "code",
   "execution_count": 290,
   "id": "a64958d2",
   "metadata": {},
   "outputs": [],
   "source": [
    "class Requirements():\n",
    "    def TopEngagementsPostd(self):\n",
    "        post = A[A[\"Content type\"]== \"post\"]\n",
    "        Mean = post[\"Engagements\"].mean()\n",
    "        post = post[post['Engagements'] >= Mean]\n",
    "        return post[[\"Post detail URL\"]]"
   ]
  },
  {
   "cell_type": "code",
   "execution_count": null,
   "id": "110748ac",
   "metadata": {},
   "outputs": [],
   "source": []
  },
  {
   "cell_type": "code",
   "execution_count": 198,
   "id": "f1eec4dc",
   "metadata": {},
   "outputs": [],
   "source": [
    "# Profile followers ==>> the followers for IDs in two monthes."
   ]
  }
 ],
 "metadata": {
  "kernelspec": {
   "display_name": "Python 3 (ipykernel)",
   "language": "python",
   "name": "python3"
  },
  "language_info": {
   "codemirror_mode": {
    "name": "ipython",
    "version": 3
   },
   "file_extension": ".py",
   "mimetype": "text/x-python",
   "name": "python",
   "nbconvert_exporter": "python",
   "pygments_lexer": "ipython3",
   "version": "3.11.4"
  }
 },
 "nbformat": 4,
 "nbformat_minor": 5
}
