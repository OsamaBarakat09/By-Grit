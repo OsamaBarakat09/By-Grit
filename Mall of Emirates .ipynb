{
 "cells": [
  {
   "cell_type": "code",
   "execution_count": 78,
   "id": "da2c0519",
   "metadata": {},
   "outputs": [],
   "source": [
    "import pandas as pd\n",
    "import numpy as np\n",
    "import matplotlib.pyplot as plt\n",
    "import seaborn as sns"
   ]
  },
  {
   "cell_type": "code",
   "execution_count": 8,
   "id": "3e78f108",
   "metadata": {},
   "outputs": [],
   "source": [
    "pd.options.display.max_rows = 200"
   ]
  },
  {
   "cell_type": "code",
   "execution_count": 59,
   "id": "7a205d37",
   "metadata": {},
   "outputs": [],
   "source": [
    "face = pd.read_excel(\"Facebook Data.xlsx\")\n",
    "insta = pd.read_excel(\"Insta Data.xlsx\")\n",
    "mall = pd.read_excel(\"Mall Of Emirates.xlsx\")"
   ]
  },
  {
   "cell_type": "code",
   "execution_count": 60,
   "id": "8d9fe4a9",
   "metadata": {},
   "outputs": [],
   "source": [
    "A = mall.replace({\"M\": \"MALE\", \"F\": \"FEMALE\"}) # i merge each gender type."
   ]
  },
  {
   "cell_type": "markdown",
   "id": "06139252",
   "metadata": {},
   "source": [
    "# Trend posts"
   ]
  },
  {
   "cell_type": "code",
   "execution_count": 103,
   "id": "efa89c5b",
   "metadata": {},
   "outputs": [],
   "source": [
    "def Trend_Face():\n",
    "    face[\"Total Actions\"] = face.iloc[:,10:17].sum(axis=1)\n",
    "    really = face[face[\"Total Actions\"] > 0]\n",
    "    res = face[face[\"Total Actions\"] > really[\"Total Actions\"].mean()]\n",
    "    res = res[[\"Permalink\"]]\n",
    "    return res\n",
    "\n",
    "def Trend_Insta():\n",
    "    insta[\"Total Actions\"] = insta.iloc[:,10:16].sum(axis=1)\n",
    "    really = insta[insta[\"Total Actions\"] > 0]\n",
    "    res = insta[insta[\"Total Actions\"] > really[\"Total Actions\"].mean()]\n",
    "    res = res[[\"Permalink\"]]\n",
    "    return res   \n",
    "\n",
    "def Trend_Mall():\n",
    "    mall[\"Total Actions\"] = mall.iloc[:,[23]].sum(axis=1)\n",
    "    really = mall[mall[\"Total Actions\"] > 0]\n",
    "    res = mall[mall[\"Total Actions\"] > really[\"Total Actions\"].mean()]\n",
    "    res = res[[\"Permalink\"]]\n",
    "    return res"
   ]
  },
  {
   "cell_type": "markdown",
   "id": "3bbd0df7",
   "metadata": {},
   "source": [
    "------"
   ]
  },
  {
   "cell_type": "markdown",
   "id": "e87b39ca",
   "metadata": {},
   "source": [
    "# Top engagments posts"
   ]
  },
  {
   "cell_type": "code",
   "execution_count": 96,
   "id": "9e1827e0",
   "metadata": {},
   "outputs": [],
   "source": [
    "# Identify top engagement posts with highlights \n",
    "def Top_facebook():\n",
    "    Top_facebook = face[face[\"Total Engagements (SUM)\"] > 0]\n",
    "    Top_facebook = face[\"Total Engagements (SUM)\"].mean()\n",
    "    Top_facebook = face[face[\"Total Engagements (SUM)\"] > Top_facebook]\n",
    "    Top_facebook = Top_facebook[[\"Permalink\"]]\n",
    "    return Top_facebook\n",
    "\n",
    "def Top_insta():\n",
    "    Top_insta = insta[insta[\"Total Engagements (SUM)\"]>0]\n",
    "    Top_insta = insta[\"Total Engagements (SUM)\"].mean()\n",
    "    Top_insta = insta[insta[\"Total Engagements (SUM)\"] > Top_insta]\n",
    "    Top_insta = Top_insta[[\"Permalink\"]]\n",
    "    return Top_insta\n",
    "\n",
    "def Top_Retweets():\n",
    "    Top_Retweets = mall[mall[\"Retweets\"]>0]\n",
    "    Top_Retweets = Top_Retweets[\"Retweets\"].mean()\n",
    "    Top_Retweets = mall[mall[\"Retweets\"] > Top_Retweets]\n",
    "    Top_Retweets = Top_Retweets[[\"Permalink\"]] \n",
    "    return Top_Retweets"
   ]
  },
  {
   "cell_type": "markdown",
   "id": "88b99f18",
   "metadata": {},
   "source": [
    "------------------"
   ]
  },
  {
   "cell_type": "markdown",
   "id": "8bf04a4f",
   "metadata": {},
   "source": [
    "# When coming to trends of platforms i measure it by two thing \n",
    "- Location of customer\n",
    "- How they find me"
   ]
  },
  {
   "cell_type": "code",
   "execution_count": 109,
   "id": "6a61e46a",
   "metadata": {},
   "outputs": [],
   "source": [
    "def LocationOfCustomers():\n",
    "    A = mall[\"Market\"].value_counts()\n",
    "    A = pd.DataFrame(A)\n",
    "    A = A.reset_index()\n",
    "    A = A.rename(columns={\"index\":\"Country\"})\n",
    "    fig = px.pie(A, values=\"Market\", names=\"Country\", title=\"percent of customer in each region\")\n",
    "    fig.show()"
   ]
  },
  {
   "cell_type": "code",
   "execution_count": 110,
   "id": "53ab52ba",
   "metadata": {
    "scrolled": true
   },
   "outputs": [],
   "source": [
    "def HowCustomerComefrom():\n",
    "    import plotly.graph_objects as go\n",
    "    A = mall[\"SocialNetwork\"].value_counts()\n",
    "    A = pd.DataFrame(A)\n",
    "    A = A.reset_index()\n",
    "    A = A.rename(columns={\"index\":\"Country\"})\n",
    "    fig = go.Figure(data=[go.Pie(labels=A[\"Country\"], values=A[\"SocialNetwork\"], hole=0.5, title=\"How customer find me\")])\n",
    "    fig.show()\n",
    "    return A"
   ]
  },
  {
   "cell_type": "markdown",
   "id": "366e0d90",
   "metadata": {},
   "source": [
    "------------------"
   ]
  },
  {
   "cell_type": "markdown",
   "id": "81054b89",
   "metadata": {},
   "source": [
    "# Users Demographics\n",
    "- The metrics that i find it to measure user demogrphic is age and gender."
   ]
  },
  {
   "cell_type": "code",
   "execution_count": 111,
   "id": "2202267f",
   "metadata": {},
   "outputs": [],
   "source": [
    "def Age():\n",
    "    bins = [10, 20, 30, 40, 50, 60, 70, 80]\n",
    "    labels = [\"10-19\", \"20-29\", \"30-39\",\"40-49\",\"50-59\", \"60-69\", \"70-79\"]\n",
    "    SenderAge = mall[mall[\"SenderAge\"]>0]\n",
    "    res = pd.cut(SenderAge.SenderAge, bins, labels= labels,  include_lowest= True)\n",
    "    res = res.value_counts()\n",
    "    res = pd.DataFrame(res).reset_index()\n",
    "    res = res.rename(columns={\"index\": \"Range of Age\"})\n",
    "    sns.barplot(data=res, x=\"Range of Age\", y=\"SenderAge\")    "
   ]
  },
  {
   "cell_type": "code",
   "execution_count": 112,
   "id": "fb4ce669",
   "metadata": {},
   "outputs": [],
   "source": [
    "def Gender():\n",
    "    res = A[A[\"SenderGender\"] != \"NaN\"]\n",
    "    res = res[\"SenderGender\"].value_counts()\n",
    "    res = pd.DataFrame(res).reset_index()\n",
    "    sns.barplot(data=res, x=\"index\", y = \"SenderGender\")\n",
    "    return  res"
   ]
  },
  {
   "cell_type": "markdown",
   "id": "3622c2bb",
   "metadata": {},
   "source": [
    "-------------------"
   ]
  },
  {
   "cell_type": "markdown",
   "id": "6b4e0cda",
   "metadata": {},
   "source": [
    "# Distribution of sentiment analysis"
   ]
  },
  {
   "cell_type": "code",
   "execution_count": 113,
   "id": "d02bee6e",
   "metadata": {},
   "outputs": [],
   "source": [
    "def Sentiment():\n",
    "    res = mall[\"Sentiment\"].value_counts()\n",
    "    res = pd.DataFrame(res).reset_index()\n",
    "    sns.barplot(res, x=\"index\", y =\"Sentiment\")"
   ]
  },
  {
   "cell_type": "markdown",
   "id": "b0f541d0",
   "metadata": {},
   "source": [
    "-----------"
   ]
  }
 ],
 "metadata": {
  "kernelspec": {
   "display_name": "Python 3 (ipykernel)",
   "language": "python",
   "name": "python3"
  },
  "language_info": {
   "codemirror_mode": {
    "name": "ipython",
    "version": 3
   },
   "file_extension": ".py",
   "mimetype": "text/x-python",
   "name": "python",
   "nbconvert_exporter": "python",
   "pygments_lexer": "ipython3",
   "version": "3.11.4"
  }
 },
 "nbformat": 4,
 "nbformat_minor": 5
}
